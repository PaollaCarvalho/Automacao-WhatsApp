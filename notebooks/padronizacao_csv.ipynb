{
 "cells": [
  {
   "cell_type": "markdown",
   "id": "41aa8b70",
   "metadata": {},
   "source": [
    "=== LIMPANDO E PADRONIZANDO OS DADOS ===\n",
    "### Limpeza e padronização ideal para a automação funcionar corretamente\n",
    "\n",
    "1. Padroniza os nomes dos clientes para formato título (Primeira Letra Maiúscula)\n",
    "2. Remover colunas desnecessárias após o preenchimento\n",
    "3. Remove espaços, parênteses e traços da coluna 'Celular' para padronizar os números\n",
    "4. Converte a coluna \"Data. Nascimento.\" para o tipo datetime.\n",
    "Extrai o dia e o mês dessas datas, formatando-os como \"dd/mm\".\n",
    "Cria uma nova coluna chamada \"Aniversário\" no DataFrame, contendo essas informações de dia e mês das datas de nascimento.\n",
    "##### 5. Converte os valores da coluna \"Celular\" para strings (caso necessário) e adicionar o código de país \"+55\" no início de cada número de celular, garantindo que a coluna \"Celular\" esteja no formato correto para automação."
   ]
  },
  {
   "cell_type": "code",
   "execution_count": 14,
   "id": "d295e33c",
   "metadata": {},
   "outputs": [],
   "source": [
    "import pandas as pd"
   ]
  },
  {
   "cell_type": "code",
   "execution_count": 15,
   "id": "11d90798",
   "metadata": {},
   "outputs": [],
   "source": [
    "import time\n",
    "from datetime import datetime"
   ]
  },
  {
   "cell_type": "code",
   "execution_count": null,
   "id": "63809227",
   "metadata": {},
   "outputs": [],
   "source": [
    "df = pd.read_excel(r'exemplos_clientes.xlsx', index_col=0)"
   ]
  },
  {
   "cell_type": "markdown",
   "id": "f2dfb5e5",
   "metadata": {},
   "source": [
    "TRANSFORM"
   ]
  },
  {
   "cell_type": "code",
   "execution_count": 17,
   "id": "78aa2bd4",
   "metadata": {},
   "outputs": [],
   "source": [
    "df['Celular'] = df['Celular'].fillna(df['Telefone'])"
   ]
  },
  {
   "cell_type": "code",
   "execution_count": 18,
   "id": "d8de1439",
   "metadata": {},
   "outputs": [],
   "source": [
    "df['Nome'] = df['Nome'].str.title()"
   ]
  },
  {
   "cell_type": "code",
   "execution_count": null,
   "id": "17cc3644",
   "metadata": {},
   "outputs": [],
   "source": [
    "df.drop('Telefone', axis=1, inplace=True)\n",
    "df.drop('Cidade', axis=1, inplace=True)"
   ]
  },
  {
   "cell_type": "code",
   "execution_count": 22,
   "id": "ddc6cdfb",
   "metadata": {},
   "outputs": [],
   "source": [
    "df[\"Celular\"] = df[\"Celular\"].str.replace(r'[\\s\\-\\(\\)]', '', regex=True)"
   ]
  },
  {
   "cell_type": "code",
   "execution_count": 23,
   "id": "84ef15b3",
   "metadata": {},
   "outputs": [],
   "source": [
    "df[\"Celular\"] = df[\"Celular\"].astype(str).apply(lambda x: \"'+55\" + x)"
   ]
  },
  {
   "cell_type": "code",
   "execution_count": 24,
   "id": "7716415a",
   "metadata": {},
   "outputs": [],
   "source": [
    "df[\"Aniversário\"] = pd.to_datetime(df[\"Dt. nasc.\"], dayfirst=True, errors=\"coerce\").dt.strftime(\"%d/%m\")"
   ]
  },
  {
   "cell_type": "code",
   "execution_count": 25,
   "id": "0de783f4",
   "metadata": {},
   "outputs": [],
   "source": [
    "df[\"Dt. nasc.\"] = pd.to_datetime(df[\"Dt. nasc.\"], errors=\"coerce\", dayfirst=True)"
   ]
  },
  {
   "cell_type": "code",
   "execution_count": null,
   "id": "bdc5e624",
   "metadata": {},
   "outputs": [],
   "source": [
    "df.to_excel(\"clientes.xlsx\")"
   ]
  },
  {
   "cell_type": "code",
   "execution_count": 27,
   "id": "015a90c3",
   "metadata": {},
   "outputs": [
    {
     "data": {
      "text/html": [
       "<div>\n",
       "<style scoped>\n",
       "    .dataframe tbody tr th:only-of-type {\n",
       "        vertical-align: middle;\n",
       "    }\n",
       "\n",
       "    .dataframe tbody tr th {\n",
       "        vertical-align: top;\n",
       "    }\n",
       "\n",
       "    .dataframe thead th {\n",
       "        text-align: right;\n",
       "    }\n",
       "</style>\n",
       "<table border=\"1\" class=\"dataframe\">\n",
       "  <thead>\n",
       "    <tr style=\"text-align: right;\">\n",
       "      <th></th>\n",
       "      <th>Nome</th>\n",
       "      <th>Dt. nasc.</th>\n",
       "      <th>Aniversário</th>\n",
       "      <th>Celular</th>\n",
       "    </tr>\n",
       "    <tr>\n",
       "      <th>Nr. cliente</th>\n",
       "      <th></th>\n",
       "      <th></th>\n",
       "      <th></th>\n",
       "      <th></th>\n",
       "    </tr>\n",
       "  </thead>\n",
       "  <tbody>\n",
       "    <tr>\n",
       "      <th>742-0</th>\n",
       "      <td>Jocimara C Da Silva Souza</td>\n",
       "      <td>1988-09-01</td>\n",
       "      <td>01/09</td>\n",
       "      <td>'+5544998005782</td>\n",
       "    </tr>\n",
       "    <tr>\n",
       "      <th>2008-7</th>\n",
       "      <td>Sandra Prestini Pedroso Dias</td>\n",
       "      <td>1974-09-01</td>\n",
       "      <td>01/09</td>\n",
       "      <td>'+5544999477890</td>\n",
       "    </tr>\n",
       "    <tr>\n",
       "      <th>3654-4</th>\n",
       "      <td>Rodrigo Henrique Paranho</td>\n",
       "      <td>2004-09-01</td>\n",
       "      <td>01/09</td>\n",
       "      <td>'+5544997020113</td>\n",
       "    </tr>\n",
       "    <tr>\n",
       "      <th>5755-0</th>\n",
       "      <td>Carla Cristina Gehlen</td>\n",
       "      <td>1980-09-01</td>\n",
       "      <td>01/09</td>\n",
       "      <td>'+5544999985797</td>\n",
       "    </tr>\n",
       "    <tr>\n",
       "      <th>737-5</th>\n",
       "      <td>Aparecida Galdino</td>\n",
       "      <td>1972-09-02</td>\n",
       "      <td>02/09</td>\n",
       "      <td>'+5544999837922</td>\n",
       "    </tr>\n",
       "    <tr>\n",
       "      <th>...</th>\n",
       "      <td>...</td>\n",
       "      <td>...</td>\n",
       "      <td>...</td>\n",
       "      <td>...</td>\n",
       "    </tr>\n",
       "    <tr>\n",
       "      <th>736-9</th>\n",
       "      <td>Roseli Dos Santos Cantu</td>\n",
       "      <td>1965-09-30</td>\n",
       "      <td>30/09</td>\n",
       "      <td>'+5544999567409</td>\n",
       "    </tr>\n",
       "    <tr>\n",
       "      <th>3062-7</th>\n",
       "      <td>Jose Carlos Da Silva</td>\n",
       "      <td>1959-09-30</td>\n",
       "      <td>30/09</td>\n",
       "      <td>'+5544999656835</td>\n",
       "    </tr>\n",
       "    <tr>\n",
       "      <th>4768-6</th>\n",
       "      <td>Claudineia Carletto</td>\n",
       "      <td>1994-09-30</td>\n",
       "      <td>30/09</td>\n",
       "      <td>'+5545998295906</td>\n",
       "    </tr>\n",
       "    <tr>\n",
       "      <th>5961-7</th>\n",
       "      <td>Adriana Maria De Souza</td>\n",
       "      <td>1971-09-30</td>\n",
       "      <td>30/09</td>\n",
       "      <td>'+5582999915180</td>\n",
       "    </tr>\n",
       "    <tr>\n",
       "      <th>6566-8</th>\n",
       "      <td>Graciele Terezinha Soder De Oliveira</td>\n",
       "      <td>1986-09-30</td>\n",
       "      <td>30/09</td>\n",
       "      <td>'+5544998242144</td>\n",
       "    </tr>\n",
       "  </tbody>\n",
       "</table>\n",
       "<p>166 rows × 4 columns</p>\n",
       "</div>"
      ],
      "text/plain": [
       "                                             Nome  Dt. nasc. Aniversário  \\\n",
       "Nr. cliente                                                                \n",
       "742-0                   Jocimara C Da Silva Souza 1988-09-01       01/09   \n",
       "2008-7               Sandra Prestini Pedroso Dias 1974-09-01       01/09   \n",
       "3654-4                   Rodrigo Henrique Paranho 2004-09-01       01/09   \n",
       "5755-0                      Carla Cristina Gehlen 1980-09-01       01/09   \n",
       "737-5                           Aparecida Galdino 1972-09-02       02/09   \n",
       "...                                           ...        ...         ...   \n",
       "736-9                     Roseli Dos Santos Cantu 1965-09-30       30/09   \n",
       "3062-7                       Jose Carlos Da Silva 1959-09-30       30/09   \n",
       "4768-6                        Claudineia Carletto 1994-09-30       30/09   \n",
       "5961-7                     Adriana Maria De Souza 1971-09-30       30/09   \n",
       "6566-8       Graciele Terezinha Soder De Oliveira 1986-09-30       30/09   \n",
       "\n",
       "                     Celular  \n",
       "Nr. cliente                   \n",
       "742-0        '+5544998005782  \n",
       "2008-7       '+5544999477890  \n",
       "3654-4       '+5544997020113  \n",
       "5755-0       '+5544999985797  \n",
       "737-5        '+5544999837922  \n",
       "...                      ...  \n",
       "736-9        '+5544999567409  \n",
       "3062-7       '+5544999656835  \n",
       "4768-6       '+5545998295906  \n",
       "5961-7       '+5582999915180  \n",
       "6566-8       '+5544998242144  \n",
       "\n",
       "[166 rows x 4 columns]"
      ]
     },
     "execution_count": 27,
     "metadata": {},
     "output_type": "execute_result"
    }
   ],
   "source": [
    "df"
   ]
  },
  {
   "cell_type": "code",
   "execution_count": 28,
   "id": "4d96da25",
   "metadata": {},
   "outputs": [
    {
     "data": {
      "text/plain": [
       "0"
      ]
     },
     "execution_count": 28,
     "metadata": {},
     "output_type": "execute_result"
    }
   ],
   "source": [
    "null_counts_celular = df['Celular'].isnull().sum()\n",
    "null_counts_celular"
   ]
  },
  {
   "cell_type": "code",
   "execution_count": 29,
   "id": "5c1d6d25",
   "metadata": {},
   "outputs": [],
   "source": [
    "hoje = datetime.today().strftime(\"%d/%m\")"
   ]
  },
  {
   "cell_type": "code",
   "execution_count": 30,
   "id": "e0b03f1d",
   "metadata": {},
   "outputs": [],
   "source": [
    "aniversariantes_hj = df[df[\"Dt. nasc.\"].dt.strftime(\"%d/%m\") == hoje]"
   ]
  },
  {
   "cell_type": "code",
   "execution_count": 31,
   "id": "034817ba",
   "metadata": {},
   "outputs": [
    {
     "data": {
      "text/html": [
       "<div>\n",
       "<style scoped>\n",
       "    .dataframe tbody tr th:only-of-type {\n",
       "        vertical-align: middle;\n",
       "    }\n",
       "\n",
       "    .dataframe tbody tr th {\n",
       "        vertical-align: top;\n",
       "    }\n",
       "\n",
       "    .dataframe thead th {\n",
       "        text-align: right;\n",
       "    }\n",
       "</style>\n",
       "<table border=\"1\" class=\"dataframe\">\n",
       "  <thead>\n",
       "    <tr style=\"text-align: right;\">\n",
       "      <th></th>\n",
       "      <th>Nome</th>\n",
       "      <th>Dt. nasc.</th>\n",
       "      <th>Aniversário</th>\n",
       "      <th>Celular</th>\n",
       "    </tr>\n",
       "    <tr>\n",
       "      <th>Nr. cliente</th>\n",
       "      <th></th>\n",
       "      <th></th>\n",
       "      <th></th>\n",
       "      <th></th>\n",
       "    </tr>\n",
       "  </thead>\n",
       "  <tbody>\n",
       "    <tr>\n",
       "      <th>742-0</th>\n",
       "      <td>Jocimara C Da Silva Souza</td>\n",
       "      <td>1988-09-01</td>\n",
       "      <td>01/09</td>\n",
       "      <td>'+5544998005782</td>\n",
       "    </tr>\n",
       "    <tr>\n",
       "      <th>2008-7</th>\n",
       "      <td>Sandra Prestini Pedroso Dias</td>\n",
       "      <td>1974-09-01</td>\n",
       "      <td>01/09</td>\n",
       "      <td>'+5544999477890</td>\n",
       "    </tr>\n",
       "    <tr>\n",
       "      <th>3654-4</th>\n",
       "      <td>Rodrigo Henrique Paranho</td>\n",
       "      <td>2004-09-01</td>\n",
       "      <td>01/09</td>\n",
       "      <td>'+5544997020113</td>\n",
       "    </tr>\n",
       "    <tr>\n",
       "      <th>5755-0</th>\n",
       "      <td>Carla Cristina Gehlen</td>\n",
       "      <td>1980-09-01</td>\n",
       "      <td>01/09</td>\n",
       "      <td>'+5544999985797</td>\n",
       "    </tr>\n",
       "    <tr>\n",
       "      <th>737-5</th>\n",
       "      <td>Aparecida Galdino</td>\n",
       "      <td>1972-09-02</td>\n",
       "      <td>02/09</td>\n",
       "      <td>'+5544999837922</td>\n",
       "    </tr>\n",
       "    <tr>\n",
       "      <th>...</th>\n",
       "      <td>...</td>\n",
       "      <td>...</td>\n",
       "      <td>...</td>\n",
       "      <td>...</td>\n",
       "    </tr>\n",
       "    <tr>\n",
       "      <th>736-9</th>\n",
       "      <td>Roseli Dos Santos Cantu</td>\n",
       "      <td>1965-09-30</td>\n",
       "      <td>30/09</td>\n",
       "      <td>'+5544999567409</td>\n",
       "    </tr>\n",
       "    <tr>\n",
       "      <th>3062-7</th>\n",
       "      <td>Jose Carlos Da Silva</td>\n",
       "      <td>1959-09-30</td>\n",
       "      <td>30/09</td>\n",
       "      <td>'+5544999656835</td>\n",
       "    </tr>\n",
       "    <tr>\n",
       "      <th>4768-6</th>\n",
       "      <td>Claudineia Carletto</td>\n",
       "      <td>1994-09-30</td>\n",
       "      <td>30/09</td>\n",
       "      <td>'+5545998295906</td>\n",
       "    </tr>\n",
       "    <tr>\n",
       "      <th>5961-7</th>\n",
       "      <td>Adriana Maria De Souza</td>\n",
       "      <td>1971-09-30</td>\n",
       "      <td>30/09</td>\n",
       "      <td>'+5582999915180</td>\n",
       "    </tr>\n",
       "    <tr>\n",
       "      <th>6566-8</th>\n",
       "      <td>Graciele Terezinha Soder De Oliveira</td>\n",
       "      <td>1986-09-30</td>\n",
       "      <td>30/09</td>\n",
       "      <td>'+5544998242144</td>\n",
       "    </tr>\n",
       "  </tbody>\n",
       "</table>\n",
       "<p>166 rows × 4 columns</p>\n",
       "</div>"
      ],
      "text/plain": [
       "                                             Nome  Dt. nasc. Aniversário  \\\n",
       "Nr. cliente                                                                \n",
       "742-0                   Jocimara C Da Silva Souza 1988-09-01       01/09   \n",
       "2008-7               Sandra Prestini Pedroso Dias 1974-09-01       01/09   \n",
       "3654-4                   Rodrigo Henrique Paranho 2004-09-01       01/09   \n",
       "5755-0                      Carla Cristina Gehlen 1980-09-01       01/09   \n",
       "737-5                           Aparecida Galdino 1972-09-02       02/09   \n",
       "...                                           ...        ...         ...   \n",
       "736-9                     Roseli Dos Santos Cantu 1965-09-30       30/09   \n",
       "3062-7                       Jose Carlos Da Silva 1959-09-30       30/09   \n",
       "4768-6                        Claudineia Carletto 1994-09-30       30/09   \n",
       "5961-7                     Adriana Maria De Souza 1971-09-30       30/09   \n",
       "6566-8       Graciele Terezinha Soder De Oliveira 1986-09-30       30/09   \n",
       "\n",
       "                     Celular  \n",
       "Nr. cliente                   \n",
       "742-0        '+5544998005782  \n",
       "2008-7       '+5544999477890  \n",
       "3654-4       '+5544997020113  \n",
       "5755-0       '+5544999985797  \n",
       "737-5        '+5544999837922  \n",
       "...                      ...  \n",
       "736-9        '+5544999567409  \n",
       "3062-7       '+5544999656835  \n",
       "4768-6       '+5545998295906  \n",
       "5961-7       '+5582999915180  \n",
       "6566-8       '+5544998242144  \n",
       "\n",
       "[166 rows x 4 columns]"
      ]
     },
     "execution_count": 31,
     "metadata": {},
     "output_type": "execute_result"
    }
   ],
   "source": [
    "df"
   ]
  }
 ],
 "metadata": {
  "kernelspec": {
   "display_name": "Python 3",
   "language": "python",
   "name": "python3"
  },
  "language_info": {
   "codemirror_mode": {
    "name": "ipython",
    "version": 3
   },
   "file_extension": ".py",
   "mimetype": "text/x-python",
   "name": "python",
   "nbconvert_exporter": "python",
   "pygments_lexer": "ipython3",
   "version": "3.11.9"
  }
 },
 "nbformat": 4,
 "nbformat_minor": 5
}
